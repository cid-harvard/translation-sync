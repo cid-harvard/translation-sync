{
 "cells": [
  {
   "cell_type": "code",
   "execution_count": 51,
   "metadata": {
    "collapsed": false
   },
   "outputs": [],
   "source": [
    "import demjson\n",
    "import json\n",
    "import csv"
   ]
  },
  {
   "cell_type": "code",
   "execution_count": 52,
   "metadata": {
    "collapsed": true
   },
   "outputs": [],
   "source": [
    "country = 'col'"
   ]
  },
  {
   "cell_type": "code",
   "execution_count": 53,
   "metadata": {
    "collapsed": false
   },
   "outputs": [],
   "source": [
    "en_file = './en-{}/translations.js'.format(country)\n",
    "es_file = './es-{}/translations.js'.format(country)\n",
    "\n",
    "translation_csv = 'translation-{}.csv'.format(country)"
   ]
  },
  {
   "cell_type": "code",
   "execution_count": 54,
   "metadata": {
    "collapsed": false
   },
   "outputs": [],
   "source": [
    "def traverse(d, sep='.', _prefix=''):\n",
    "    assert isinstance(d, dict)\n",
    "    for k, v in d.items():\n",
    "        if isinstance(v, dict):\n",
    "            yield from traverse(v, sep, \"{0}{1}{2}\".format(_prefix, k, sep))\n",
    "        else:\n",
    "            yield (\"{0}{1}\".format(_prefix, k), v)\n",
    "\n",
    "def flatten(d):\n",
    "    return dict(traverse(d))"
   ]
  },
  {
   "cell_type": "code",
   "execution_count": 60,
   "metadata": {
    "collapsed": false
   },
   "outputs": [],
   "source": [
    "#en_dict = demjson.decode_file(en_file)\n",
    "#es_dict = demjson.decode_file(es_file)"
   ]
  },
  {
   "cell_type": "code",
   "execution_count": 61,
   "metadata": {
    "collapsed": false
   },
   "outputs": [
    {
     "data": {
      "text/plain": [
       "464"
      ]
     },
     "execution_count": 61,
     "metadata": {},
     "output_type": "execute_result"
    }
   ],
   "source": [
    "en_dict = flatten(en_dict)\n",
    "len(en_dict)"
   ]
  },
  {
   "cell_type": "code",
   "execution_count": 62,
   "metadata": {
    "collapsed": false
   },
   "outputs": [
    {
     "data": {
      "text/plain": [
       "464"
      ]
     },
     "execution_count": 62,
     "metadata": {},
     "output_type": "execute_result"
    }
   ],
   "source": [
    "es_dict = flatten(es_dict)\n",
    "len(es_dict)"
   ]
  },
  {
   "cell_type": "code",
   "execution_count": 63,
   "metadata": {
    "collapsed": false
   },
   "outputs": [],
   "source": [
    "#lang_csv = []\n",
    "#copy_keys = list(en_dict.keys()) + list(es_dict.keys())\n",
    "#for key in en_dict.keys():\n",
    "#    lang_csv.append({ \"copy_key\":key, \"english\": en_dict.get(key, \"\"), \"spanish\": es_dict.get(key, \"\")})"
   ]
  },
  {
   "cell_type": "code",
   "execution_count": 64,
   "metadata": {
    "collapsed": false
   },
   "outputs": [],
   "source": [
    "def write_to_csv(lang_csv, fieldnames, csv):\n",
    "    with open(csv,'w') as csvfile:\n",
    "        writer = csv.DictWriter(csvfile, fieldnames)\n",
    "        writer.writeheader()\n",
    "        for row in lang_csv:\n",
    "            writer.writerow(row)\n",
    "        "
   ]
  },
  {
   "cell_type": "code",
   "execution_count": 65,
   "metadata": {
    "collapsed": false
   },
   "outputs": [],
   "source": [
    "fieldnames = ['copy_key', 'english', 'spanish']"
   ]
  },
  {
   "cell_type": "code",
   "execution_count": 66,
   "metadata": {
    "collapsed": false
   },
   "outputs": [],
   "source": [
    "def read_from_csv(import_csv):\n",
    "    translations= []\n",
    "    spanish = {}\n",
    "    english = {}\n",
    "    \n",
    "    with open(import_csv, 'r') as csvfile:\n",
    "        reader = csv.DictReader(csvfile)\n",
    "        for row in reader:\n",
    "            translations.append(row)\n",
    "    \n",
    "    for row in translations:\n",
    "        spanish[row['copy_key']] = row['spanish']\n",
    "        english[row['copy_key']] = row['english']\n",
    "\n",
    "    with open(es_file, 'w') as file:\n",
    "        file.write(\"export default \")\n",
    "        file.write(json.dumps(spanish, indent=2, sort_keys=True))\n",
    "        file.write(\";\")\n",
    "    with open(en_file, 'w') as file:\n",
    "        file.write(\"export default \")\n",
    "        file.write(json.dumps(english, indent=2, sort_keys=True))\n",
    "        file.write(\";\")\n",
    "        \n",
    "    "
   ]
  },
  {
   "cell_type": "code",
   "execution_count": 67,
   "metadata": {
    "collapsed": false
   },
   "outputs": [],
   "source": [
    "#write_to_csv(lang_csv, fieldnames)"
   ]
  },
  {
   "cell_type": "code",
   "execution_count": 68,
   "metadata": {
    "collapsed": false
   },
   "outputs": [],
   "source": [
    "read_from_csv(translation_csv)"
   ]
  },
  {
   "cell_type": "code",
   "execution_count": null,
   "metadata": {
    "collapsed": true
   },
   "outputs": [],
   "source": []
  },
  {
   "cell_type": "code",
   "execution_count": null,
   "metadata": {
    "collapsed": true
   },
   "outputs": [],
   "source": []
  },
  {
   "cell_type": "code",
   "execution_count": null,
   "metadata": {
    "collapsed": true
   },
   "outputs": [],
   "source": []
  },
  {
   "cell_type": "code",
   "execution_count": null,
   "metadata": {
    "collapsed": true
   },
   "outputs": [],
   "source": []
  }
 ],
 "metadata": {
  "kernelspec": {
   "display_name": "Python 3",
   "language": "python",
   "name": "python3"
  },
  "language_info": {
   "codemirror_mode": {
    "name": "ipython",
    "version": 3
   },
   "file_extension": ".py",
   "mimetype": "text/x-python",
   "name": "python",
   "nbconvert_exporter": "python",
   "pygments_lexer": "ipython3",
   "version": "3.5.1"
  }
 },
 "nbformat": 4,
 "nbformat_minor": 0
}
