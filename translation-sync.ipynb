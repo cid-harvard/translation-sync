{
 "cells": [
  {
   "cell_type": "code",
   "execution_count": 5,
   "metadata": {
    "collapsed": false
   },
   "outputs": [],
   "source": [
    "import demjson\n",
    "import json\n",
    "import csv"
   ]
  },
  {
   "cell_type": "code",
   "execution_count": 6,
   "metadata": {
    "collapsed": true
   },
   "outputs": [],
   "source": [
    "en_file = './en/translations.js'\n",
    "es_file = './es/translations.js'"
   ]
  },
  {
   "cell_type": "code",
   "execution_count": 7,
   "metadata": {
    "collapsed": false
   },
   "outputs": [],
   "source": [
    "def traverse(d, sep='.', _prefix=''):\n",
    "    assert isinstance(d, dict)\n",
    "    for k, v in d.items():\n",
    "        if isinstance(v, dict):\n",
    "            yield from traverse(v, sep, \"{0}{1}{2}\".format(_prefix, k, sep))\n",
    "        else:\n",
    "            yield (\"{0}{1}\".format(_prefix, k), v)\n",
    "\n",
    "def flatten(d):\n",
    "    return dict(traverse(d))"
   ]
  },
  {
   "cell_type": "code",
   "execution_count": 8,
   "metadata": {
    "collapsed": false
   },
   "outputs": [],
   "source": [
    "en_dict = demjson.decode_file(en_file)\n",
    "es_dict = demjson.decode_file(es_file)"
   ]
  },
  {
   "cell_type": "code",
   "execution_count": 9,
   "metadata": {
    "collapsed": false
   },
   "outputs": [
    {
     "data": {
      "text/plain": [
       "215"
      ]
     },
     "execution_count": 9,
     "metadata": {},
     "output_type": "execute_result"
    }
   ],
   "source": [
    "en_dict = flatten(en_dict)\n",
    "len(en_dict)"
   ]
  },
  {
   "cell_type": "code",
   "execution_count": 10,
   "metadata": {
    "collapsed": false
   },
   "outputs": [
    {
     "data": {
      "text/plain": [
       "215"
      ]
     },
     "execution_count": 10,
     "metadata": {},
     "output_type": "execute_result"
    }
   ],
   "source": [
    "es_dict = flatten(es_dict)\n",
    "len(es_dict)"
   ]
  },
  {
   "cell_type": "code",
   "execution_count": 11,
   "metadata": {
    "collapsed": false
   },
   "outputs": [],
   "source": [
    "lang_csv = []\n",
    "for key in en_dict.keys():\n",
    "    lang_csv.append({ \"copy_key\":key, \"english\": en_dict[key], \"spanish\": es_dict[key]})"
   ]
  },
  {
   "cell_type": "code",
   "execution_count": 12,
   "metadata": {
    "collapsed": false
   },
   "outputs": [],
   "source": [
    "def write_to_csv(lang_csv, fieldnames):\n",
    "    with open('translation.csv', 'w') as csvfile:\n",
    "        writer = csv.DictWriter(csvfile, fieldnames)\n",
    "        writer.writeheader()\n",
    "        for row in lang_csv:\n",
    "            writer.writerow(row)\n",
    "        "
   ]
  },
  {
   "cell_type": "code",
   "execution_count": 13,
   "metadata": {
    "collapsed": false
   },
   "outputs": [
    {
     "name": "stdout",
     "output_type": "stream",
     "text": [
      "None\n"
     ]
    }
   ],
   "source": [
    "fieldnames = ['copy_key', 'english', 'spanish']\n",
    "print(write_to_csv(lang_csv, fieldnames))"
   ]
  },
  {
   "cell_type": "code",
   "execution_count": 14,
   "metadata": {
    "collapsed": false
   },
   "outputs": [],
   "source": [
    "def read_from_csv(import_csv):\n",
    "    translations= []\n",
    "    spanish = {}\n",
    "    english = {}\n",
    "    \n",
    "    with open(import_csv, 'r') as csvfile:\n",
    "        reader = csv.DictReader(csvfile)\n",
    "        for row in reader:\n",
    "            translations.append(row)\n",
    "    \n",
    "    for row in translations:\n",
    "        spanish[row['copy_key']] = row['spanish']\n",
    "        english[row['copy_key']] = row['english']\n",
    "        \n",
    "    with open('new_spanish.json', 'w') as file:\n",
    "        file.write(json.dumps(spanish))\n",
    "    with open('new_english.json', 'w') as file:\n",
    "        file.write(json.dumps(english))\n",
    "        \n",
    "    "
   ]
  },
  {
   "cell_type": "code",
   "execution_count": 106,
   "metadata": {
    "collapsed": false
   },
   "outputs": [],
   "source": [
    "read_from_csv('translation.csv')"
   ]
  },
  {
   "cell_type": "code",
   "execution_count": null,
   "metadata": {
    "collapsed": true
   },
   "outputs": [],
   "source": []
  }
 ],
 "metadata": {
  "kernelspec": {
   "display_name": "Python 3",
   "language": "python",
   "name": "python3"
  },
  "language_info": {
   "codemirror_mode": {
    "name": "ipython",
    "version": 3
   },
   "file_extension": ".py",
   "mimetype": "text/x-python",
   "name": "python",
   "nbconvert_exporter": "python",
   "pygments_lexer": "ipython3",
   "version": "3.4.3"
  }
 },
 "nbformat": 4,
 "nbformat_minor": 0
}
